{
 "cells": [
  {
   "cell_type": "markdown",
   "id": "c6cc3bc9-ddc9-4bba-845c-163c4074b21a",
   "metadata": {},
   "source": [
    "#### Explore AI Academy: Regression Project\n"
   ]
  },
  {
   "cell_type": "markdown",
   "id": "e77cd030-0494-45d0-b711-45754fe49e17",
   "metadata": {},
   "source": [
    "<div style=\"font-size: 35px\">\n",
    "    <font color='Green'> <b>CO2 Carbon Emissions Data Analysis</b></font> "
   ]
  },
  {
   "cell_type": "markdown",
   "id": "7622e0b7-f99e-45f0-969d-bae9b1997165",
   "metadata": {},
   "source": [
    "![agri_image.png](attachment:agri_image.png)"
   ]
  },
  {
   "cell_type": "markdown",
   "id": "ecd49711-07ee-47c5-a9c5-387bd017e97f",
   "metadata": {},
   "source": [
    "<a id=\"cont\"></a>\n",
    "\n",
    "## Table of Contents\n",
    "* <b>[1. Project Overview**](#chapter1)\n",
    "    * [1.1 Introduction**](#section_1_1)\n",
    "        * [1.1.1 Problem Statement**](#sub_section_1_1_1)\n",
    "    * [1.2 Objectives**](#section_1_2)\n",
    "* <b>[2. Importing Packages**](#chapter2)\n",
    "* <b>[3. Loading Data**](#chapter3)\n",
    "* <b>[4. Data Cleaning**](#chapter4)\n",
    "* <b>[5. Exploratory Data Analysis (EDA)**](#chapter5)\n",
    "* <b>[6. Feature Engineering**](#chapter6)</b>\n",
    "* [7. Modeling](#chapter7)\n",
    "* [8. Model Performance](#chapter8)\n",
    "* <b>[9. Conclusion**](#chapter10)</b>\n",
    "* [10. References](#chapter11)"
   ]
  },
  {
   "cell_type": "markdown",
   "id": "cfd680ba-f0a5-4dd2-bd26-5ce140edb328",
   "metadata": {},
   "source": [
    "## 1. Project Overview <a class=\"anchor\" id=\"chapter1\"></a>\n",
    "\n",
    "### 1.1 Introduction <a class=\"anchor\" id=\"section_1_1\"></a>"
   ]
  },
  {
   "cell_type": "markdown",
   "id": "28e40db5-6604-48ca-89c2-361c2cf3477c",
   "metadata": {},
   "source": [
    "> <b> Objective of the Project:</b> Clearly state what the project aims to achieve or what problem it intends to solve. This helps to immediately orient readers to the purpose of your analysis.\n",
    "\n",
    "> <b> Data Source:</b> Mention where the data comes from, including specifics about the dataset such as the period it covers, who collected it, and any important features or variables it includes. This establishes the context and relevance of the data.\n",
    "\n",
    "> <b> Importance of the Study:</b> Explain why this project is important. Discuss its relevance or impact in its field, whether it’s improving a business process, advancing scientific understanding, or influencing policy decisions.\n",
    "\n",
    "> <b> Key Questions or Hypotheses:</b> Outline the main questions you aim to answer or hypotheses you plan to test. This sets clear goals for your analysis and what the audience can expect to learn.\n",
    "\n",
    "> <b> Methodology Overview:</b> Provide a brief overview of the methods and techniques you plan to use in your analysis. This doesn’t need to be detailed here but should give a taste of the analytical approach and tools.\n",
    "\n",
    "> <b> Structure of the Notebook:</b> Describe the layout of the notebook. Explain the sections or parts of the analysis to help readers navigate through the content.\n",
    "\n",
    "> <b> Expected Outcomes:</b> If applicable, mention what kind of results or findings you anticipate. This could be specific insights, predictive model performance, or impact assessment."
   ]
  },
  {
   "cell_type": "markdown",
   "id": "5c6e410b-4fc6-42dc-88c9-056dfafe7efb",
   "metadata": {},
   "source": [
    "- #### 1.1.1 Problem Statement <a class=\"anchor\" id=\"sub_section_1_1_1\"></a>"
   ]
  },
  {
   "cell_type": "markdown",
   "id": "33f5c64e-3eb9-44ea-bd64-de39b85bfa45",
   "metadata": {},
   "source": [
    "### 1.2 Objectives <a class=\"anchor\" id=\"section_1_2\"></a>"
   ]
  },
  {
   "cell_type": "markdown",
   "id": "9836bce4-d96f-405a-8c02-533f5beb7f3f",
   "metadata": {},
   "source": [
    "+ To apply exploratory data analysis.\n",
    "+ To implement feature engineering techniques to extract meaningful information.\n",
    "+ To model and assess various supervised machine learning algorithms for the prediction ...."
   ]
  },
  {
   "cell_type": "markdown",
   "id": "6913ab0a-3174-4202-bf1a-1d0cc43d6fd9",
   "metadata": {},
   "source": [
    "## 2. Importing Packages <a class=\"anchor\" id=\"chapter2\"></a>\n",
    "\n",
    "\n",
    "\n",
    "+ For data manipulation and analysis, `Pandas` and `Numpy`.\n",
    "+ For data visualization, `Matplotlib` and `Seaborn`.\n",
    "+ "
   ]
  },
  {
   "cell_type": "code",
   "execution_count": 1,
   "id": "5111ef81-851e-4157-836a-f8d19cace7db",
   "metadata": {},
   "outputs": [],
   "source": [
    "# Libraries for data loading, manipulation and analysis\n",
    "\n",
    "import numpy as np\n",
    "import pandas as pd\n",
    "import csv\n",
    "import seaborn as sns\n",
    "import matplotlib.pyplot as plt\n",
    "\n",
    "# Displays output inline\n",
    "%matplotlib inline\n",
    "\n",
    "# Libraries for Handing Errors\n",
    "import warnings\n",
    "warnings.filterwarnings('ignore')"
   ]
  },
  {
   "cell_type": "markdown",
   "id": "a28ccd35-d606-4d7e-981a-55b86e2d8dd7",
   "metadata": {},
   "source": [
    "## 3. Loading Data <a class=\"anchor\" id=\"chapter3\"></a>\n",
    "\n",
    "The data used for this project was located in the 2401PTDS_REGRESSION_PROJECT folder on github. To better manipulate and analyse the co2_emissions_from_agri.csv file, it was loaded into a Pandas Data Frame using the Pandas function, `.read_csv()`. We defined the dataset using the df function and will be used throughout the notebook."
   ]
  },
  {
   "cell_type": "code",
   "execution_count": 2,
   "id": "10002581-b0c2-4f5b-9f10-0ec5a45d9223",
   "metadata": {},
   "outputs": [
    {
     "data": {
      "text/html": [
       "<div>\n",
       "<style scoped>\n",
       "    .dataframe tbody tr th:only-of-type {\n",
       "        vertical-align: middle;\n",
       "    }\n",
       "\n",
       "    .dataframe tbody tr th {\n",
       "        vertical-align: top;\n",
       "    }\n",
       "\n",
       "    .dataframe thead th {\n",
       "        text-align: right;\n",
       "    }\n",
       "</style>\n",
       "<table border=\"1\" class=\"dataframe\">\n",
       "  <thead>\n",
       "    <tr style=\"text-align: right;\">\n",
       "      <th></th>\n",
       "      <th>Area</th>\n",
       "      <th>Year</th>\n",
       "      <th>Savanna fires</th>\n",
       "      <th>Forest fires</th>\n",
       "      <th>Crop Residues</th>\n",
       "      <th>Rice Cultivation</th>\n",
       "      <th>Drained organic soils (CO2)</th>\n",
       "      <th>Pesticides Manufacturing</th>\n",
       "      <th>Food Transport</th>\n",
       "      <th>Forestland</th>\n",
       "      <th>...</th>\n",
       "      <th>Manure Management</th>\n",
       "      <th>Fires in organic soils</th>\n",
       "      <th>Fires in humid tropical forests</th>\n",
       "      <th>On-farm energy use</th>\n",
       "      <th>Rural population</th>\n",
       "      <th>Urban population</th>\n",
       "      <th>Total Population - Male</th>\n",
       "      <th>Total Population - Female</th>\n",
       "      <th>total_emission</th>\n",
       "      <th>Average Temperature °C</th>\n",
       "    </tr>\n",
       "  </thead>\n",
       "  <tbody>\n",
       "    <tr>\n",
       "      <th>0</th>\n",
       "      <td>Afghanistan</td>\n",
       "      <td>1990</td>\n",
       "      <td>14.7237</td>\n",
       "      <td>0.0557</td>\n",
       "      <td>205.6077</td>\n",
       "      <td>686.00</td>\n",
       "      <td>0.0</td>\n",
       "      <td>11.807483</td>\n",
       "      <td>63.1152</td>\n",
       "      <td>-2388.803</td>\n",
       "      <td>...</td>\n",
       "      <td>319.1763</td>\n",
       "      <td>0.0</td>\n",
       "      <td>0.0</td>\n",
       "      <td>NaN</td>\n",
       "      <td>9655167.0</td>\n",
       "      <td>2593947.0</td>\n",
       "      <td>5348387.0</td>\n",
       "      <td>5346409.0</td>\n",
       "      <td>2198.963539</td>\n",
       "      <td>0.536167</td>\n",
       "    </tr>\n",
       "    <tr>\n",
       "      <th>1</th>\n",
       "      <td>Afghanistan</td>\n",
       "      <td>1991</td>\n",
       "      <td>14.7237</td>\n",
       "      <td>0.0557</td>\n",
       "      <td>209.4971</td>\n",
       "      <td>678.16</td>\n",
       "      <td>0.0</td>\n",
       "      <td>11.712073</td>\n",
       "      <td>61.2125</td>\n",
       "      <td>-2388.803</td>\n",
       "      <td>...</td>\n",
       "      <td>342.3079</td>\n",
       "      <td>0.0</td>\n",
       "      <td>0.0</td>\n",
       "      <td>NaN</td>\n",
       "      <td>10230490.0</td>\n",
       "      <td>2763167.0</td>\n",
       "      <td>5372959.0</td>\n",
       "      <td>5372208.0</td>\n",
       "      <td>2323.876629</td>\n",
       "      <td>0.020667</td>\n",
       "    </tr>\n",
       "    <tr>\n",
       "      <th>2</th>\n",
       "      <td>Afghanistan</td>\n",
       "      <td>1992</td>\n",
       "      <td>14.7237</td>\n",
       "      <td>0.0557</td>\n",
       "      <td>196.5341</td>\n",
       "      <td>686.00</td>\n",
       "      <td>0.0</td>\n",
       "      <td>11.712073</td>\n",
       "      <td>53.3170</td>\n",
       "      <td>-2388.803</td>\n",
       "      <td>...</td>\n",
       "      <td>349.1224</td>\n",
       "      <td>0.0</td>\n",
       "      <td>0.0</td>\n",
       "      <td>NaN</td>\n",
       "      <td>10995568.0</td>\n",
       "      <td>2985663.0</td>\n",
       "      <td>6028494.0</td>\n",
       "      <td>6028939.0</td>\n",
       "      <td>2356.304229</td>\n",
       "      <td>-0.259583</td>\n",
       "    </tr>\n",
       "    <tr>\n",
       "      <th>3</th>\n",
       "      <td>Afghanistan</td>\n",
       "      <td>1993</td>\n",
       "      <td>14.7237</td>\n",
       "      <td>0.0557</td>\n",
       "      <td>230.8175</td>\n",
       "      <td>686.00</td>\n",
       "      <td>0.0</td>\n",
       "      <td>11.712073</td>\n",
       "      <td>54.3617</td>\n",
       "      <td>-2388.803</td>\n",
       "      <td>...</td>\n",
       "      <td>352.2947</td>\n",
       "      <td>0.0</td>\n",
       "      <td>0.0</td>\n",
       "      <td>NaN</td>\n",
       "      <td>11858090.0</td>\n",
       "      <td>3237009.0</td>\n",
       "      <td>7003641.0</td>\n",
       "      <td>7000119.0</td>\n",
       "      <td>2368.470529</td>\n",
       "      <td>0.101917</td>\n",
       "    </tr>\n",
       "    <tr>\n",
       "      <th>4</th>\n",
       "      <td>Afghanistan</td>\n",
       "      <td>1994</td>\n",
       "      <td>14.7237</td>\n",
       "      <td>0.0557</td>\n",
       "      <td>242.0494</td>\n",
       "      <td>705.60</td>\n",
       "      <td>0.0</td>\n",
       "      <td>11.712073</td>\n",
       "      <td>53.9874</td>\n",
       "      <td>-2388.803</td>\n",
       "      <td>...</td>\n",
       "      <td>367.6784</td>\n",
       "      <td>0.0</td>\n",
       "      <td>0.0</td>\n",
       "      <td>NaN</td>\n",
       "      <td>12690115.0</td>\n",
       "      <td>3482604.0</td>\n",
       "      <td>7733458.0</td>\n",
       "      <td>7722096.0</td>\n",
       "      <td>2500.768729</td>\n",
       "      <td>0.372250</td>\n",
       "    </tr>\n",
       "    <tr>\n",
       "      <th>5</th>\n",
       "      <td>Afghanistan</td>\n",
       "      <td>1995</td>\n",
       "      <td>14.7237</td>\n",
       "      <td>0.0557</td>\n",
       "      <td>243.8152</td>\n",
       "      <td>666.40</td>\n",
       "      <td>0.0</td>\n",
       "      <td>11.712073</td>\n",
       "      <td>54.6445</td>\n",
       "      <td>-2388.803</td>\n",
       "      <td>...</td>\n",
       "      <td>397.5498</td>\n",
       "      <td>0.0</td>\n",
       "      <td>0.0</td>\n",
       "      <td>NaN</td>\n",
       "      <td>13401971.0</td>\n",
       "      <td>3697570.0</td>\n",
       "      <td>8219467.0</td>\n",
       "      <td>8199445.0</td>\n",
       "      <td>2624.612529</td>\n",
       "      <td>0.285583</td>\n",
       "    </tr>\n",
       "    <tr>\n",
       "      <th>6</th>\n",
       "      <td>Afghanistan</td>\n",
       "      <td>1996</td>\n",
       "      <td>38.9302</td>\n",
       "      <td>0.2014</td>\n",
       "      <td>249.0364</td>\n",
       "      <td>686.00</td>\n",
       "      <td>0.0</td>\n",
       "      <td>11.712073</td>\n",
       "      <td>53.1637</td>\n",
       "      <td>-2388.803</td>\n",
       "      <td>...</td>\n",
       "      <td>465.2050</td>\n",
       "      <td>0.0</td>\n",
       "      <td>0.0</td>\n",
       "      <td>NaN</td>\n",
       "      <td>13952791.0</td>\n",
       "      <td>3870093.0</td>\n",
       "      <td>8569175.0</td>\n",
       "      <td>8537421.0</td>\n",
       "      <td>2838.921329</td>\n",
       "      <td>0.036583</td>\n",
       "    </tr>\n",
       "    <tr>\n",
       "      <th>7</th>\n",
       "      <td>Afghanistan</td>\n",
       "      <td>1997</td>\n",
       "      <td>30.9378</td>\n",
       "      <td>0.1193</td>\n",
       "      <td>276.2940</td>\n",
       "      <td>705.60</td>\n",
       "      <td>0.0</td>\n",
       "      <td>11.712073</td>\n",
       "      <td>52.0390</td>\n",
       "      <td>-2388.803</td>\n",
       "      <td>...</td>\n",
       "      <td>511.5927</td>\n",
       "      <td>0.0</td>\n",
       "      <td>0.0</td>\n",
       "      <td>NaN</td>\n",
       "      <td>14373573.0</td>\n",
       "      <td>4008032.0</td>\n",
       "      <td>8916862.0</td>\n",
       "      <td>8871958.0</td>\n",
       "      <td>3204.180115</td>\n",
       "      <td>0.415167</td>\n",
       "    </tr>\n",
       "    <tr>\n",
       "      <th>8</th>\n",
       "      <td>Afghanistan</td>\n",
       "      <td>1998</td>\n",
       "      <td>64.1411</td>\n",
       "      <td>0.3263</td>\n",
       "      <td>287.4346</td>\n",
       "      <td>705.60</td>\n",
       "      <td>0.0</td>\n",
       "      <td>11.712073</td>\n",
       "      <td>52.7050</td>\n",
       "      <td>-2388.803</td>\n",
       "      <td>...</td>\n",
       "      <td>541.6598</td>\n",
       "      <td>0.0</td>\n",
       "      <td>0.0</td>\n",
       "      <td>NaN</td>\n",
       "      <td>14733655.0</td>\n",
       "      <td>4130344.0</td>\n",
       "      <td>9275541.0</td>\n",
       "      <td>9217591.0</td>\n",
       "      <td>3560.716661</td>\n",
       "      <td>0.890833</td>\n",
       "    </tr>\n",
       "    <tr>\n",
       "      <th>9</th>\n",
       "      <td>Afghanistan</td>\n",
       "      <td>1999</td>\n",
       "      <td>46.1683</td>\n",
       "      <td>0.0895</td>\n",
       "      <td>247.4980</td>\n",
       "      <td>548.80</td>\n",
       "      <td>0.0</td>\n",
       "      <td>11.712073</td>\n",
       "      <td>35.7630</td>\n",
       "      <td>-2388.803</td>\n",
       "      <td>...</td>\n",
       "      <td>611.0611</td>\n",
       "      <td>0.0</td>\n",
       "      <td>0.0</td>\n",
       "      <td>NaN</td>\n",
       "      <td>15137497.0</td>\n",
       "      <td>4266179.0</td>\n",
       "      <td>9667811.0</td>\n",
       "      <td>9595036.0</td>\n",
       "      <td>3694.806533</td>\n",
       "      <td>1.058500</td>\n",
       "    </tr>\n",
       "  </tbody>\n",
       "</table>\n",
       "<p>10 rows × 31 columns</p>\n",
       "</div>"
      ],
      "text/plain": [
       "          Area  Year  Savanna fires  Forest fires  Crop Residues  \\\n",
       "0  Afghanistan  1990        14.7237        0.0557       205.6077   \n",
       "1  Afghanistan  1991        14.7237        0.0557       209.4971   \n",
       "2  Afghanistan  1992        14.7237        0.0557       196.5341   \n",
       "3  Afghanistan  1993        14.7237        0.0557       230.8175   \n",
       "4  Afghanistan  1994        14.7237        0.0557       242.0494   \n",
       "5  Afghanistan  1995        14.7237        0.0557       243.8152   \n",
       "6  Afghanistan  1996        38.9302        0.2014       249.0364   \n",
       "7  Afghanistan  1997        30.9378        0.1193       276.2940   \n",
       "8  Afghanistan  1998        64.1411        0.3263       287.4346   \n",
       "9  Afghanistan  1999        46.1683        0.0895       247.4980   \n",
       "\n",
       "   Rice Cultivation  Drained organic soils (CO2)  Pesticides Manufacturing  \\\n",
       "0            686.00                          0.0                 11.807483   \n",
       "1            678.16                          0.0                 11.712073   \n",
       "2            686.00                          0.0                 11.712073   \n",
       "3            686.00                          0.0                 11.712073   \n",
       "4            705.60                          0.0                 11.712073   \n",
       "5            666.40                          0.0                 11.712073   \n",
       "6            686.00                          0.0                 11.712073   \n",
       "7            705.60                          0.0                 11.712073   \n",
       "8            705.60                          0.0                 11.712073   \n",
       "9            548.80                          0.0                 11.712073   \n",
       "\n",
       "   Food Transport  Forestland  ...  Manure Management  Fires in organic soils  \\\n",
       "0         63.1152   -2388.803  ...           319.1763                     0.0   \n",
       "1         61.2125   -2388.803  ...           342.3079                     0.0   \n",
       "2         53.3170   -2388.803  ...           349.1224                     0.0   \n",
       "3         54.3617   -2388.803  ...           352.2947                     0.0   \n",
       "4         53.9874   -2388.803  ...           367.6784                     0.0   \n",
       "5         54.6445   -2388.803  ...           397.5498                     0.0   \n",
       "6         53.1637   -2388.803  ...           465.2050                     0.0   \n",
       "7         52.0390   -2388.803  ...           511.5927                     0.0   \n",
       "8         52.7050   -2388.803  ...           541.6598                     0.0   \n",
       "9         35.7630   -2388.803  ...           611.0611                     0.0   \n",
       "\n",
       "   Fires in humid tropical forests  On-farm energy use  Rural population  \\\n",
       "0                              0.0                 NaN         9655167.0   \n",
       "1                              0.0                 NaN        10230490.0   \n",
       "2                              0.0                 NaN        10995568.0   \n",
       "3                              0.0                 NaN        11858090.0   \n",
       "4                              0.0                 NaN        12690115.0   \n",
       "5                              0.0                 NaN        13401971.0   \n",
       "6                              0.0                 NaN        13952791.0   \n",
       "7                              0.0                 NaN        14373573.0   \n",
       "8                              0.0                 NaN        14733655.0   \n",
       "9                              0.0                 NaN        15137497.0   \n",
       "\n",
       "   Urban population  Total Population - Male  Total Population - Female  \\\n",
       "0         2593947.0                5348387.0                  5346409.0   \n",
       "1         2763167.0                5372959.0                  5372208.0   \n",
       "2         2985663.0                6028494.0                  6028939.0   \n",
       "3         3237009.0                7003641.0                  7000119.0   \n",
       "4         3482604.0                7733458.0                  7722096.0   \n",
       "5         3697570.0                8219467.0                  8199445.0   \n",
       "6         3870093.0                8569175.0                  8537421.0   \n",
       "7         4008032.0                8916862.0                  8871958.0   \n",
       "8         4130344.0                9275541.0                  9217591.0   \n",
       "9         4266179.0                9667811.0                  9595036.0   \n",
       "\n",
       "   total_emission  Average Temperature °C  \n",
       "0     2198.963539                0.536167  \n",
       "1     2323.876629                0.020667  \n",
       "2     2356.304229               -0.259583  \n",
       "3     2368.470529                0.101917  \n",
       "4     2500.768729                0.372250  \n",
       "5     2624.612529                0.285583  \n",
       "6     2838.921329                0.036583  \n",
       "7     3204.180115                0.415167  \n",
       "8     3560.716661                0.890833  \n",
       "9     3694.806533                1.058500  \n",
       "\n",
       "[10 rows x 31 columns]"
      ]
     },
     "execution_count": 2,
     "metadata": {},
     "output_type": "execute_result"
    }
   ],
   "source": [
    "# loading dataset\n",
    "df = pd.read_csv(\"co2_emissions_from_agri.csv\")\n",
    "df.head(10) "
   ]
  },
  {
   "cell_type": "markdown",
   "id": "73973bc6",
   "metadata": {},
   "source": [
    "To set the maximum number of columns to be displayed, the `pd.set_option()` function was put in place."
   ]
  },
  {
   "cell_type": "code",
   "execution_count": 3,
   "id": "086a8c48",
   "metadata": {},
   "outputs": [],
   "source": [
    "# displays unlimited number of columns\n",
    "pd.set_option(\"display.max_columns\", None)"
   ]
  },
  {
   "cell_type": "markdown",
   "id": "e89ae204",
   "metadata": {},
   "source": [
    "<div class=\"alert alert-block alert-danger\">\n",
    "<b>To prevent any major unnecessary changes occurring to the original data</b> , a copy of the dataframe was made using the df.copy() method and referred to as `df_copy`.\n",
    "</div>"
   ]
  },
  {
   "cell_type": "code",
   "execution_count": 4,
   "id": "ce22955a",
   "metadata": {},
   "outputs": [],
   "source": [
    "# The copy of the dataframe\n",
    "df_copy = df.copy()"
   ]
  },
  {
   "cell_type": "markdown",
   "id": "5b4ce362",
   "metadata": {},
   "source": [
    "First look at the shape of the dataframe by using `.shape`."
   ]
  },
  {
   "cell_type": "code",
   "execution_count": 5,
   "id": "6bc8d2ca",
   "metadata": {},
   "outputs": [
    {
     "data": {
      "text/plain": [
       "(6965, 31)"
      ]
     },
     "execution_count": 5,
     "metadata": {},
     "output_type": "execute_result"
    }
   ],
   "source": [
    "# Displays the number of rows and columns\n",
    "df_copy.shape"
   ]
  },
  {
   "cell_type": "markdown",
   "id": "2b82e74e",
   "metadata": {},
   "source": [
    "**Results** : The dataset consists of 6965 rows (observations) and 31 columns (features). "
   ]
  },
  {
   "cell_type": "markdown",
   "id": "bb3a17f5",
   "metadata": {},
   "source": [
    "One of the univariate analysis (non-graphical), is the method `.info()`. This method outputs important details about the dataset which includes the columns: the data types **(Dtype)** of the columns and the count of non-null values."
   ]
  },
  {
   "cell_type": "code",
   "execution_count": 6,
   "id": "046d0478",
   "metadata": {},
   "outputs": [
    {
     "name": "stdout",
     "output_type": "stream",
     "text": [
      "<class 'pandas.core.frame.DataFrame'>\n",
      "RangeIndex: 6965 entries, 0 to 6964\n",
      "Data columns (total 31 columns):\n",
      " #   Column                           Non-Null Count  Dtype  \n",
      "---  ------                           --------------  -----  \n",
      " 0   Area                             6965 non-null   object \n",
      " 1   Year                             6965 non-null   int64  \n",
      " 2   Savanna fires                    6934 non-null   float64\n",
      " 3   Forest fires                     6872 non-null   float64\n",
      " 4   Crop Residues                    5576 non-null   float64\n",
      " 5   Rice Cultivation                 6965 non-null   float64\n",
      " 6   Drained organic soils (CO2)      6965 non-null   float64\n",
      " 7   Pesticides Manufacturing         6965 non-null   float64\n",
      " 8   Food Transport                   6965 non-null   float64\n",
      " 9   Forestland                       6472 non-null   float64\n",
      " 10  Net Forest conversion            6472 non-null   float64\n",
      " 11  Food Household Consumption       6492 non-null   float64\n",
      " 12  Food Retail                      6965 non-null   float64\n",
      " 13  On-farm Electricity Use          6965 non-null   float64\n",
      " 14  Food Packaging                   6965 non-null   float64\n",
      " 15  Agrifood Systems Waste Disposal  6965 non-null   float64\n",
      " 16  Food Processing                  6965 non-null   float64\n",
      " 17  Fertilizers Manufacturing        6965 non-null   float64\n",
      " 18  IPPU                             6222 non-null   float64\n",
      " 19  Manure applied to Soils          6037 non-null   float64\n",
      " 20  Manure left on Pasture           6965 non-null   float64\n",
      " 21  Manure Management                6037 non-null   float64\n",
      " 22  Fires in organic soils           6965 non-null   float64\n",
      " 23  Fires in humid tropical forests  6810 non-null   float64\n",
      " 24  On-farm energy use               6009 non-null   float64\n",
      " 25  Rural population                 6965 non-null   float64\n",
      " 26  Urban population                 6965 non-null   float64\n",
      " 27  Total Population - Male          6965 non-null   float64\n",
      " 28  Total Population - Female        6965 non-null   float64\n",
      " 29  total_emission                   6965 non-null   float64\n",
      " 30  Average Temperature °C           6965 non-null   float64\n",
      "dtypes: float64(29), int64(1), object(1)\n",
      "memory usage: 1.6+ MB\n"
     ]
    }
   ],
   "source": [
    "# Display summary information about the DataFrame.\n",
    "df_copy.info()"
   ]
  },
  {
   "cell_type": "markdown",
   "id": "25d19f31",
   "metadata": {},
   "source": [
    "**Results** : The dataset consists of the following datatypes: 29 float64, 1 integer64 and 1 object."
   ]
  },
  {
   "cell_type": "markdown",
   "id": "453c27ca",
   "metadata": {},
   "source": [
    "### Dataset Attributes\n",
    "\n",
    "- Savanna fires: Emissions from fires in savanna ecosystems.\n",
    "- Forest fires: Emissions from fires in forested areas.\n",
    "- Crop Residues: Emissions from burning or decomposing leftover plant material after crop harvesting.\n",
    "- Rice Cultivation: Emissions from methane released during rice cultivation.\n",
    "- Drained organic soils (CO2): Emissions from carbon dioxide released when draining organic soils.\n",
    "- Pesticides Manufacturing: Emissions from the production of pesticides.\n",
    "- Food Transport: Emissions from transporting food products.\n",
    "- Forestland: Land covered by forests.\n",
    "- Net Forest conversion: Change in forest area due to deforestation and afforestation.\n",
    "- Food Household Consumption: Emissions from food consumption at the household level.\n",
    "- Food Retail: Emissions from the operation of retail establishments selling food.\n",
    "- On-farm Electricity Use: Electricity consumption on farms.\n",
    "- Food Packaging: Emissions from the production and disposal of food packaging materials.\n",
    "- Agrifood Systems Waste Disposal: Emissions from waste disposal in the agrifood system.\n",
    "- Food Processing: Emissions from processing food products.\n",
    "- Fertilizers Manufacturing: Emissions from the production of fertilizers.\n",
    "- IPPU: Emissions from industrial processes and product use.\n",
    "- Manure applied to Soils: Emissions from applying animal manure to agricultural soils.\n",
    "- Manure left on Pasture: Emissions from animal manure on pasture or grazing land.\n",
    "- Manure Management: Emissions from managing and treating animal manure.\n",
    "- Fires in organic soils: Emissions from fires in organic soils.\n",
    "- Fires in humid tropical forests: Emissions from fires in humid tropical forests.\n",
    "- On-farm energy use: Energy consumption on farms.\n",
    "- Rural population: Number of people living in rural areas.\n",
    "- Urban population: Number of people living in urban areas.\n",
    "- Total Population - Male: Total number of male individuals in the population.\n",
    "- Total Population - Female: Total number of female individuals in the population.\n",
    "- total_emission: Total greenhouse gas emissions from various sources.\n",
    "- Average Temperature °C: The average increasing of temperature (by year) in degrees Celsius,\n",
    " \n",
    "\n",
    "CO2 is recorded in kilotonnes (kt): 1 kt represents 1000 kg of CO2.\n",
    "\n",
    "The feature \"Average Temperature C°\", represents the average yearly temperature increase. For example, if it is 0.12, it means that the temperature in that specific location increased by 0.12 degrees Celsius.\n",
    "\n",
    "Forestland is the only feature that exhibits negative emissions due to its role as a carbon sink. Through photosynthesis, forests absorb and store carbon dioxide, effectively removing it from the atmosphere. Sustainable forest management, along with afforestation and reforestation efforts, further contribute to negative emissions by increasing carbon sequestration capacity.\n",
    "\n"
   ]
  },
  {
   "cell_type": "markdown",
   "id": "c61177c2",
   "metadata": {},
   "source": [
    "## 4. Data Cleaning <a class=\"anchor\" id=\"chapter4\"></a>"
   ]
  },
  {
   "cell_type": "markdown",
   "id": "ac5a45d1",
   "metadata": {},
   "source": [
    "<div class=\"alert alert-block alert-info\">\n",
    "<b>Data cleaning</b> is a crucial step in the data analysis process, involving the correction or removal of incorrect, corrupted, duplicate, or incomplete data within a dataset. Through various techniques such as filling missing values, removing outliers, and standardizing data formats, it ensures the accuracy and reliability of subsequent analyses and decision-making.\n",
    "</div>"
   ]
  },
  {
   "cell_type": "markdown",
   "id": "0d44b90e",
   "metadata": {},
   "source": [
    "The `check_null_values` function iterates over each column in a DataFrame to identify and print the count of null values, providing column-specific null counts."
   ]
  },
  {
   "cell_type": "code",
   "execution_count": 7,
   "id": "2a2b9a88",
   "metadata": {},
   "outputs": [],
   "source": [
    "def check_null_values(df_copy):\n",
    "    \"\"\"\n",
    "    Print the count of null values for each column in a DataFrame.\n",
    "\n",
    "    This function iterates through each column in the DataFrame to check for the presence of null values.\n",
    "    If a column contains null values, it prints the column name along with the number of null values.\n",
    "\n",
    "    Parameters:\n",
    "    df (DataFrame): The pandas DataFrame to check for null values.\n",
    "\n",
    "    Returns:\n",
    "    None: This function does not return a value; it only prints information.\n",
    "    \"\"\"\n",
    "    for column in df_copy:\n",
    "        if df_copy[column].isnull().any():\n",
    "            print('{0} has {1} null values'.format(column, df_copy[column].isnull().sum()))"
   ]
  },
  {
   "cell_type": "code",
   "execution_count": 8,
   "id": "0862aece",
   "metadata": {},
   "outputs": [
    {
     "name": "stdout",
     "output_type": "stream",
     "text": [
      "Savanna fires has 31 null values\n",
      "Forest fires has 93 null values\n",
      "Crop Residues has 1389 null values\n",
      "Forestland has 493 null values\n",
      "Net Forest conversion has 493 null values\n",
      "Food Household Consumption has 473 null values\n",
      "IPPU has 743 null values\n",
      "Manure applied to Soils has 928 null values\n",
      "Manure Management has 928 null values\n",
      "Fires in humid tropical forests has 155 null values\n",
      "On-farm energy use has 956 null values\n"
     ]
    }
   ],
   "source": [
    "check_null_values(df_copy)"
   ]
  },
  {
   "cell_type": "markdown",
   "id": "94ebab25",
   "metadata": {},
   "source": [
    "**Results**:"
   ]
  },
  {
   "cell_type": "markdown",
   "id": "742cfeaf",
   "metadata": {},
   "source": [
    "The `count_duplicate_rows` function checks a DataFrame for duplicate entries by utilizing the duplicated method, which identifies duplicates, and then summarizes the total number of duplicate rows. This function is useful for data cleaning processes, ensuring uniqueness in datasets by returning the count of duplicate rows."
   ]
  },
  {
   "cell_type": "code",
   "execution_count": 9,
   "id": "39550130",
   "metadata": {},
   "outputs": [],
   "source": [
    "def count_duplicate_rows(df_copy):\n",
    "    \"\"\"\n",
    "    Count the number of duplicate rows in a DataFrame.\n",
    "\n",
    "    This function calculates the total number of duplicate rows in the DataFrame by calling the `duplicated` method,\n",
    "    which marks duplicates as `True`, and then sums these cases.\n",
    "\n",
    "    Parameters:\n",
    "    df_copy (pandas.DataFrame): The DataFrame to check for duplicates.\n",
    "\n",
    "    Returns:\n",
    "    int: The count of duplicate rows.\n",
    "    \"\"\"\n",
    "    duplicate_count = df_copy.duplicated().sum()\n",
    "    return duplicate_count\n"
   ]
  },
  {
   "cell_type": "code",
   "execution_count": 10,
   "id": "250fb4a8",
   "metadata": {},
   "outputs": [
    {
     "data": {
      "text/plain": [
       "0"
      ]
     },
     "execution_count": 10,
     "metadata": {},
     "output_type": "execute_result"
    }
   ],
   "source": [
    "count_duplicate_rows(df_copy)"
   ]
  },
  {
   "cell_type": "markdown",
   "id": "b0430a36",
   "metadata": {},
   "source": [
    "**Results**: There are no duplicate rows in the dataset "
   ]
  },
  {
   "cell_type": "markdown",
   "id": "bf1602f2",
   "metadata": {},
   "source": [
    "The `preprocess_data` function performs essential data cleaning operations on a DataFrame, setting missing values, filling in gaps with statistical measures (mean and median), and dropping non-essential columns. After processing, it prints the first two rows of the cleaned DataFrame for quick inspection and returns the entire modified DataFrame for further use.\n"
   ]
  },
  {
   "cell_type": "code",
   "execution_count": 14,
   "id": "3a86548b",
   "metadata": {},
   "outputs": [],
   "source": [
    "def preprocess_data(df_copy):\n",
    "    \"\"\"\n",
    "    Perform basic data cleaning on the DataFrame.\n",
    "\n",
    "    This includes:\n",
    "    - Setting missing 'Crop Residues' to 0.\n",
    "    - Filling missing Forestland and Net Forest conversion with the mean and median, respectively.\n",
    "    - Filling missing Savanna fires and Forest fires with the median and mean, respectively.\n",
    "    - Dropping columns with many null values or that are not required.\n",
    "\n",
    "\n",
    "    Returns:\n",
    "        DataFrame: The cleaned DataFrame.\n",
    "    \"\"\"\n",
    "    \n",
    "    # Assign zero Crop Residues to data where the number of Crop Residues is missing\n",
    "    df_copy['Crop Residues'] = df_copy['Crop Residues'].fillna(0)\n",
    "    \n",
    "    # Fill missing Forestland with the mean score\n",
    "    df_copy['Forestland'] = df_copy['Forestland'].fillna(df_copy['Forestland'].mean())\n",
    "    \n",
    "    # Fill missing Net Forest conversion with the median number of Net Forest Conversions\n",
    "    df_copy['Net Forest conversion'] = df_copy['Net Forest conversion'].fillna(df_copy['Net Forest conversion'].median())\n",
    "    \n",
    "    # Fill missing Forest fires scores with the median fires\n",
    "    df_copy['Forest fires'] = df_copy['Forest fires'].fillna(df_copy['Forest fires'].median())\n",
    "    "
   ]
  },
  {
   "cell_type": "code",
   "execution_count": 16,
   "id": "b6f60abe",
   "metadata": {},
   "outputs": [],
   "source": [
    "# look at the top 2\n",
    "preprocess_data(df_copy.head(2))"
   ]
  },
  {
   "cell_type": "markdown",
   "id": "ba6e4b56",
   "metadata": {},
   "source": [
    "#### <a href=#cont>Back to Table of Contents</a>\n",
    "\n",
    "---"
   ]
  },
  {
   "cell_type": "markdown",
   "id": "348cbe34",
   "metadata": {},
   "source": [
    "## 5. Exploratory Data Analysis (EDA) <a class=\"anchor\" id=\"chapter5\"></a>\n",
    "\n",
    "\n",
    "To give a better understanding of the variables and the relationships between them, we set out to do an **Exploratory Data Analysis (EDA)** of our dataset. The main tasks includes investigating and summarizing the dataframe's main characteristics by data visualization methods and statistical analyses. Furthermore, investigating the dataset’s key features, summarizing its central characteristics, and employing both data visualisation techniques and statistical analyses to draw meaningful insights that can guide further research and data-driven decision making.\n",
    " "
   ]
  },
  {
   "cell_type": "markdown",
   "id": "706de77d",
   "metadata": {},
   "source": [
    "Filter the DataFrame to examine the variety of media types available on Netflix within a specified runtime range (`filter_by_runtime). "
   ]
  },
  {
   "cell_type": "code",
   "execution_count": null,
   "id": "26ceef8e",
   "metadata": {},
   "outputs": [],
   "source": []
  }
 ],
 "metadata": {
  "kernelspec": {
   "display_name": "Python_packages",
   "language": "python",
   "name": "python3"
  },
  "language_info": {
   "codemirror_mode": {
    "name": "ipython",
    "version": 3
   },
   "file_extension": ".py",
   "mimetype": "text/x-python",
   "name": "python",
   "nbconvert_exporter": "python",
   "pygments_lexer": "ipython3",
   "version": "3.12.4"
  }
 },
 "nbformat": 4,
 "nbformat_minor": 5
}
